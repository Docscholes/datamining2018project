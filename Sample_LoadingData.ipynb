{
 "cells": [
  {
   "cell_type": "markdown",
   "metadata": {},
   "source": [
    "After finding several solutions, it is rather simple to keep it as .json\n",
    "+ pickle doesn't support that large file (it crashes)\n",
    "+ HDF5 dones't support mixed-type data, i.e. object\n",
    "+ other thing may try is utilize database"
   ]
  },
  {
   "cell_type": "code",
   "execution_count": null,
   "metadata": {},
   "outputs": [],
   "source": [
    "# And here is the following code to load it\n",
    "from tqdm import tqdm\n",
    "import json\n",
    "import pandas as pd\n",
    "from pandas.io.json import json_normalize\n",
    "\n",
    "temp = []\n",
    "max_records = 1e2\n",
    "c = pd.read_json('./data/building/Taitung/BUILDLIC.json', lines=True, chunksize=max_records)\n",
    "filtered_data = pd.DataFrame()\n",
    "try:\n",
    "    for df_chunk in c:\n",
    "        for i in tqdm(range(df_chunk.shape[1])):\n",
    "            temp.append(json_normalize(json_normalize(df_chunk[i].values)['data'][0]))\n",
    "    filtered_data = pd.concat(temp, axis=0)\n",
    "except ValueError:\n",
    "       print ('\\nSome messages in the file cannot be parsed')"
   ]
  },
  {
   "cell_type": "code",
   "execution_count": null,
   "metadata": {},
   "outputs": [],
   "source": []
  }
 ],
 "metadata": {
  "kernelspec": {
   "display_name": "NTHU_DataMining",
   "language": "python",
   "name": "nthu_datamining"
  },
  "language_info": {
   "codemirror_mode": {
    "name": "ipython",
    "version": 3
   },
   "file_extension": ".py",
   "mimetype": "text/x-python",
   "name": "python",
   "nbconvert_exporter": "python",
   "pygments_lexer": "ipython3",
   "version": "3.6.6"
  }
 },
 "nbformat": 4,
 "nbformat_minor": 2
}
