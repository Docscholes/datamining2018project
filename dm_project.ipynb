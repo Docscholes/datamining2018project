{
 "cells": [
  {
   "cell_type": "markdown",
   "metadata": {},
   "source": [
    "# Data Mining Project"
   ]
  },
  {
   "cell_type": "code",
   "execution_count": 5,
   "metadata": {},
   "outputs": [],
   "source": [
    "#setup\n",
    "import numpy\n",
    "import pandas as pd\n",
    "import os"
   ]
  },
  {
   "cell_type": "code",
   "execution_count": 6,
   "metadata": {},
   "outputs": [
    {
     "name": "stdout",
     "output_type": "stream",
     "text": [
      "The autoreload extension is already loaded. To reload it, use:\n",
      "  %reload_ext autoreload\n"
     ]
    }
   ],
   "source": [
    "%load_ext autoreload\n",
    "%autoreload 2"
   ]
  },
  {
   "cell_type": "code",
   "execution_count": 7,
   "metadata": {},
   "outputs": [],
   "source": [
    "#keys\n",
    "origin_time_key = 'Origin Time'\n",
    "epicenter_longitude_key = 'EpicenterLongitude'\n",
    "epicenter_latitude_key = 'EpicenterLatitude'\n",
    "depth_key = 'Depth'\n",
    "magnitude_key = 'Magnitude'\n",
    "station_code_key = 'StationCode'\n",
    "station_name_key = 'StationName'\n",
    "station_longitude_key = 'StationLongitude'\n",
    "station_latitude_key = 'StationLatitude'\n",
    "instrument_kind_key = 'InstrumentKind'\n",
    "start_time_key = 'StartTime'\n",
    "record_length_key = 'RecordLength'\n",
    "sample_rate_key = 'SampleRate'\n",
    "amplitude_unit_key = 'AmplitudeUnit'\n",
    "amplitude_max_u_key = 'AmplitudeMAX. U'\n",
    "amplitude_max_n_key = 'AmplitudeMAX. N'\n",
    "amplitude_max_e_key = 'AmplitudeMAX. E'\n",
    "\n",
    "earthquake_column_names_dict = {origin_time_key: 'origin_time',\n",
    "                               epicenter_longitude_key: 'epicenter_longitude',\n",
    "                               epicenter_latitude_key: 'epicenter_latitude',\n",
    "                               depth_key: 'depth',\n",
    "                               magnitude_key: 'magnitude',\n",
    "                               station_code_key: 'station_code',\n",
    "                               station_name_key: 'station_name',\n",
    "                               station_longitude_key: 'station_longitude',\n",
    "                               station_latitude_key: 'station_latitude',\n",
    "                               instrument_kind_key: 'instrument_kind',\n",
    "                               start_time_key: 'start_time',\n",
    "                               record_length_key: 'record_length',\n",
    "                               sample_rate_key: 'sample_rate',\n",
    "                               amplitude_unit_key: 'amplitude_unit',\n",
    "                               amplitude_max_u_key: 'amplitude_max_u',\n",
    "                               amplitude_max_n_key: 'amplitude_max_n',\n",
    "                               amplitude_max_e_key: 'amplitude_max_e'}\n",
    "\n",
    "earthquake_keys = [origin_time_key, epicenter_longitude_key, epicenter_latitude_key, depth_key, magnitude_key, \\\n",
    "                  station_code_key, station_name_key, station_longitude_key, station_latitude_key, \\\n",
    "                   instrument_kind_key, start_time_key, record_length_key, sample_rate_key, amplitude_unit_key, \\\n",
    "                  amplitude_max_u_key, amplitude_max_n_key, amplitude_max_e_key]"
   ]
  },
  {
   "cell_type": "code",
   "execution_count": 8,
   "metadata": {},
   "outputs": [],
   "source": [
    "#method for creating a dictionary with the lines of the file\n",
    "def earthquake_dict(lines_array):\n",
    "    earthquake = {}\n",
    "    for line in earthquake_array:\n",
    "        if ':' in line:\n",
    "            for key in earthquake_keys:\n",
    "                if key in line:\n",
    "                    if '~' in line:\n",
    "                        range_string = line.split(': ')[1]\n",
    "                        lower = (range_string.split('~')[1]).strip()\n",
    "                        upper = (range_string.split('~')[0]).strip()\n",
    "                        earthquake[earthquake_column_names_dict[key] + '_lower'] = lower\n",
    "                        earthquake[earthquake_column_names_dict[key] + '_upper'] = upper\n",
    "                    else:\n",
    "                        earthquake[earthquake_column_names_dict[key]] = (line.split(': ')[1]).strip()\n",
    "    return earthquake"
   ]
  },
  {
   "cell_type": "code",
   "execution_count": 9,
   "metadata": {},
   "outputs": [
    {
     "name": "stdout",
     "output_type": "stream",
     "text": [
      "Length: 2338\n"
     ]
    }
   ],
   "source": [
    "#add data for the earthquakes\n",
    "#get files for eq_cwb directory\n",
    "earthquakes = []\n",
    "for directory in os.listdir(os.getcwd() + '/data/earthquake/eq_cwb/2017ASCII'):\n",
    "    path = os.getcwd() + '/data/earthquake/eq_cwb/2017ASCII/' + directory\n",
    "    if os.path.isdir(path):\n",
    "        for file in os.listdir(path):\n",
    "            with open(path + '/' + file,\"r\") as file:\n",
    "                earthquake_array = [string for string in file.read().split('\\n')]\n",
    "                earthquakes += [earthquake_dict(earthquake_array)]\n",
    "                \n",
    "#get files for eq_ncree directory\n",
    "for directory in os.listdir(os.getcwd() + '/data/earthquake/eq_ncree/106'):\n",
    "    path = os.getcwd() + '/data/earthquake/eq_ncree/106/' + directory\n",
    "    if os.path.isdir(path):\n",
    "        for file in os.listdir(path):\n",
    "            with open(path + '/' + file, encoding='windows-1254') as file:\n",
    "                earthquake_array = [string for string in file.read().split('\\n')]\n",
    "                earthquakes += [earthquake_dict(earthquake_array)]\n",
    "\n",
    "earthquake_df = pd.DataFrame.from_dict(earthquakes)\n",
    "print('Length:', len(earthquake_df))\n",
    "    "
   ]
  },
  {
   "cell_type": "code",
   "execution_count": null,
   "metadata": {},
   "outputs": [],
   "source": []
  }
 ],
 "metadata": {
  "kernelspec": {
   "display_name": "Python 3",
   "language": "python",
   "name": "python3"
  },
  "language_info": {
   "codemirror_mode": {
    "name": "ipython",
    "version": 3
   },
   "file_extension": ".py",
   "mimetype": "text/x-python",
   "name": "python",
   "nbconvert_exporter": "python",
   "pygments_lexer": "ipython3",
   "version": "3.5.6"
  }
 },
 "nbformat": 4,
 "nbformat_minor": 2
}
